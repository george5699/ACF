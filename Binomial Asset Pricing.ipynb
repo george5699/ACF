{
 "cells": [
  {
   "cell_type": "code",
   "execution_count": 1,
   "metadata": {},
   "outputs": [],
   "source": [
    "import numpy as np"
   ]
  },
  {
   "cell_type": "code",
   "execution_count": 6,
   "metadata": {},
   "outputs": [],
   "source": [
    "# Initiate CRR Parameterisation\n",
    "S0 = 9\n",
    "K = 10\n",
    "r = 0.01\n",
    "T = 5\n",
    "sigma = 0.1\n",
    "dt = 1\n",
    "u = np.exp(sigma*np.sqrt(dt))\n",
    "d = 1/u\n",
    "p_t = (1+r-d)/(u-d)\n",
    "p_h = (p_t*u)/(1+r)"
   ]
  },
  {
   "cell_type": "code",
   "execution_count": 77,
   "metadata": {},
   "outputs": [],
   "source": [
    "# Search for smallest k\n",
    "k = int(np.ceil(np.log(K/(S0*(d**T)))/np.log(u/d)))"
   ]
  },
  {
   "cell_type": "code",
   "execution_count": 46,
   "metadata": {},
   "outputs": [],
   "source": [
    "# Calculate the option price using binomial formula\n",
    "    # define a binomial function \n",
    "f = np.math.factorial\n",
    "def binom(a,b):\n",
    "    c = a - b \n",
    "    return f(a)/(f(b)*f(c))"
   ]
  },
  {
   "cell_type": "code",
   "execution_count": 83,
   "metadata": {},
   "outputs": [
    {
     "data": {
      "text/plain": [
       "array([4, 5])"
      ]
     },
     "execution_count": 83,
     "metadata": {},
     "output_type": "execute_result"
    }
   ],
   "source": [
    "# Create an array with the number of steps to loop through\n",
    "step = np.arange(k,T+1)\n",
    "step"
   ]
  },
  {
   "cell_type": "code",
   "execution_count": 91,
   "metadata": {},
   "outputs": [],
   "source": [
    "X1 = binom(T,x)*(p_h**x)*(1-p_h)**(T-x)\n",
    "X2 = binom(T,x)*(p_t**x)*(1-p_t)**(T-x)"
   ]
  },
  {
   "cell_type": "code",
   "execution_count": 95,
   "metadata": {},
   "outputs": [
    {
     "name": "stdout",
     "output_type": "stream",
     "text": [
      "<function X1 at 0x00000237DC9632F0>\n",
      "<function X1 at 0x00000237DC9632F0>\n"
     ]
    }
   ],
   "source": [
    "def X1(T,x):\n",
    "    return binom(T,x)*(p_h**x)*(1-p_h)**(T-x)\n",
    "for x in step:\n",
    "    print(X1)"
   ]
  },
  {
   "cell_type": "code",
   "execution_count": 96,
   "metadata": {},
   "outputs": [
    {
     "data": {
      "text/plain": [
       "<function __main__.X1(T, x)>"
      ]
     },
     "execution_count": 96,
     "metadata": {},
     "output_type": "execute_result"
    }
   ],
   "source": [
    "X1"
   ]
  },
  {
   "cell_type": "code",
   "execution_count": null,
   "metadata": {},
   "outputs": [],
   "source": []
  }
 ],
 "metadata": {
  "kernelspec": {
   "display_name": "Python 3",
   "language": "python",
   "name": "python3"
  },
  "language_info": {
   "codemirror_mode": {
    "name": "ipython",
    "version": 3
   },
   "file_extension": ".py",
   "mimetype": "text/x-python",
   "name": "python",
   "nbconvert_exporter": "python",
   "pygments_lexer": "ipython3",
   "version": "3.7.0"
  }
 },
 "nbformat": 4,
 "nbformat_minor": 2
}
